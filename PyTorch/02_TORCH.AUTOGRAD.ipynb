{
 "cells": [
  {
   "cell_type": "markdown",
   "id": "97cb5f82",
   "metadata": {},
   "source": [
    "# TORCH.AUTOGRAD\n",
    "\n",
    "torch.autograd는 파이토치에서 자동 미분(미분은 함수의 기울기/그레디언트 or 변화율)을 수행하는 기능을 담당하는 모듈. 자동 미분은 딥러닝에서 역전파 알고리즘을 구현하는데 사용되며, 모델의 가중치에 대한 손실 함수의 그라디언트(gradient)를 자동으로 계산하는 기능을 제공한다.\n",
    "\n",
    "\n"
   ]
  },
  {
   "cell_type": "code",
   "execution_count": 1,
   "id": "97947873",
   "metadata": {},
   "outputs": [],
   "source": [
    "import torch\n",
    "from torchvision.models import resnet18, ResNet18_Weights # ResNet-18은 CNN 아키텍처 중 하나"
   ]
  },
  {
   "cell_type": "markdown",
   "id": "f1f03a2f",
   "metadata": {},
   "source": [
    "### 모델 임포트, 데이터, 라벨 생성"
   ]
  },
  {
   "cell_type": "code",
   "execution_count": 2,
   "id": "1733795d",
   "metadata": {},
   "outputs": [],
   "source": [
    "model = resnet18(weights=ResNet18_Weights.DEFAULT)\n",
    "data = torch.rand(1, 3, 64, 64)  # 이미지 하나에 채널 3개짜리 64 * 64 짜리인 랜덤 데이터 생성\n",
    "labels = torch.rand(1, 1000) # 랜덤으로 1000개 레이블 생성, 이미지 하나에 클래스가 1000개인것\n"
   ]
  },
  {
   "cell_type": "markdown",
   "id": "8603b694",
   "metadata": {},
   "source": [
    "### 순전파: 딥 러닝 모델이 입력 데이터를 받아 각 계층을 거치며 연산 수행, 예측값 생성"
   ]
  },
  {
   "cell_type": "code",
   "execution_count": 3,
   "id": "41b72d75",
   "metadata": {},
   "outputs": [],
   "source": [
    "prediction = model(data) \n",
    "#print(prediction)"
   ]
  },
  {
   "cell_type": "markdown",
   "id": "0c67ed15",
   "metadata": {},
   "source": [
    "### 손실값 계산 후 역전파로 모델 파라미터 업데이트 준비\n",
    "- 모델 파라미터 업데이터 순서 \n",
    "1. 총 손실 계산\n",
    "2. loss.backward()로 그레디언트 계산\n",
    "3. optim.step()으로 옵티마이저가 그레디언트 사용하여 모델 파라미터 업데이트\n"
   ]
  },
  {
   "cell_type": "code",
   "execution_count": 4,
   "id": "ae207c22",
   "metadata": {},
   "outputs": [],
   "source": [
    "loss = (prediction - labels).sum() #  오차를 계산한 후 모두 합하여 손실 구하기\n",
    "loss.backward() # 역전파"
   ]
  },
  {
   "cell_type": "markdown",
   "id": "79f07e4a",
   "metadata": {},
   "source": [
    "### 옵티마이저 : 딥 러닝 모델의 파라미터를 업데이트하는 데 사용"
   ]
  },
  {
   "cell_type": "code",
   "execution_count": 5,
   "id": "820197ca",
   "metadata": {},
   "outputs": [],
   "source": [
    "optim = torch.optim.SGD(model.parameters(), lr=1e-2, momentum=0.9)\n"
   ]
  },
  {
   "cell_type": "code",
   "execution_count": 7,
   "id": "04623e3e",
   "metadata": {},
   "outputs": [],
   "source": [
    "optim.step()"
   ]
  }
 ],
 "metadata": {
  "kernelspec": {
   "display_name": "PYT",
   "language": "python",
   "name": "pyt"
  },
  "language_info": {
   "codemirror_mode": {
    "name": "ipython",
    "version": 3
   },
   "file_extension": ".py",
   "mimetype": "text/x-python",
   "name": "python",
   "nbconvert_exporter": "python",
   "pygments_lexer": "ipython3",
   "version": "3.8.0"
  }
 },
 "nbformat": 4,
 "nbformat_minor": 5
}
