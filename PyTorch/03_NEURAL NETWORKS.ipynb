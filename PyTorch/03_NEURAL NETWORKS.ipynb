{
 "cells": [
  {
   "cell_type": "markdown",
   "id": "b14b8bf8",
   "metadata": {},
   "source": [
    "# NEURAL NETWORKS"
   ]
  },
  {
   "cell_type": "markdown",
   "id": "6a95cf79",
   "metadata": {},
   "source": [
    "### 신경망의 일반적인 교육 절차\n",
    "\n",
    "- 학습 가능한 매개변수(또는 가중치)가 있는 신경망 정의\n",
    "\n",
    "- 입력 데이터 집합을 반복\n",
    "\n",
    "- 네트워크를 통한 프로세스 입력\n",
    "\n",
    "- 손실 계산\n",
    "\n",
    "- 그레디언트를 역전파\n",
    "\n",
    "\n",
    "\n",
    "- 일반적으로 사용하는 네트워크 가중치 업데이트 규칙 : . 가중치 = 가중치 - 학습 속도 * 그레디언트"
   ]
  },
  {
   "cell_type": "markdown",
   "id": "4d5addfb",
   "metadata": {},
   "source": [
    "### 신경망 정의"
   ]
  },
  {
   "cell_type": "code",
   "execution_count": 1,
   "id": "032e3df6",
   "metadata": {},
   "outputs": [],
   "source": [
    "import torch\n",
    "import torch.nn as nn\n",
    "import torch.nn.functional as F\n"
   ]
  },
  {
   "cell_type": "code",
   "execution_count": 2,
   "id": "631291a4",
   "metadata": {},
   "outputs": [
    {
     "name": "stdout",
     "output_type": "stream",
     "text": [
      "Net(\n",
      "  (conv1): Conv2d(1, 6, kernel_size=(5, 5), stride=(1, 1))\n",
      "  (conv2): Conv2d(6, 16, kernel_size=(5, 5), stride=(1, 1))\n",
      "  (fc1): Linear(in_features=400, out_features=120, bias=True)\n",
      "  (fc2): Linear(in_features=120, out_features=84, bias=True)\n",
      "  (fc3): Linear(in_features=84, out_features=10, bias=True)\n",
      ")\n"
     ]
    }
   ],
   "source": [
    "import torch.nn as nn\n",
    "\n",
    "class Net(nn.Module):\n",
    "    def __init__(self):\n",
    "        super(Net, self).__init__() # nn.Module의 생성자를 호출하여 초기화\n",
    "\n",
    "        # 1개의 입력 이미지 채널, 6개의 출력 채널, 5x5 크기의 컨볼루션 필터\n",
    "        self.conv1 = nn.Conv2d(1, 6, 5) \n",
    "\n",
    "        # 6개의 입력 이미지 채널, 16개의 출력 채널, 5x5 크기의 컨볼루션 필터\n",
    "        self.conv2 = nn.Conv2d(6, 16, 5) \n",
    "\n",
    "        # 선형 연산: 입력 이미지를 1차원으로 평탄화하여 16 * 5 * 5의 크기를 갖는 벡터로 변환\n",
    "        # 이후 120개의 출력 뉴런으로 이루어진 완전 연결 층\n",
    "        self.fc1 = nn.Linear(16 * 5 * 5, 120) \n",
    "\n",
    "        # 120개의 입력 뉴런, 84개의 출력 뉴런으로 이루어진 완전 연결 층\n",
    "        self.fc2 = nn.Linear(120, 84) \n",
    "\n",
    "        # 84개의 입력 뉴런, 10개의 출력 뉴런으로 이루어진 완전 연결 층\n",
    "        self.fc3 = nn.Linear(84, 10) \n",
    "\n",
    "\n",
    "    def forward(self, x):  # forward 메서드는 순전파 과정 정의\n",
    "        # (2, 2) 윈도우에 대한 최대 풀링\n",
    "        x = F.max_pool2d(F.relu(self.conv1(x)), (2, 2))\n",
    "        # 이미지 크기가 정사각형인 경우, 단일 숫자로 크기 지정 가능\n",
    "        x = F.max_pool2d(F.relu(self.conv2(x)), 2)\n",
    "        x = torch.flatten(x, 1)  # 배치 차원을 제외한 모든 차원을 평탄화\n",
    "        x = F.relu(self.fc1(x))\n",
    "        x = F.relu(self.fc2(x))\n",
    "        x = self.fc3(x)\n",
    "        return x\n",
    "\n",
    "net = Net()\n",
    "print(net)\n"
   ]
  },
  {
   "cell_type": "code",
   "execution_count": 3,
   "id": "55e1fdf9",
   "metadata": {},
   "outputs": [
    {
     "name": "stdout",
     "output_type": "stream",
     "text": [
      "10\n",
      "torch.Size([6, 1, 5, 5])\n"
     ]
    }
   ],
   "source": [
    "# Net 모델 파라미터 확인\n",
    "params = list(net.parameters())\n",
    "print(len(params))\n",
    "print(params[0].size())  # conv1's .weight"
   ]
  },
  {
   "cell_type": "code",
   "execution_count": 4,
   "id": "6dfa9847",
   "metadata": {},
   "outputs": [
    {
     "name": "stdout",
     "output_type": "stream",
     "text": [
      "tensor([[-0.0636, -0.0127,  0.0282,  0.0645,  0.0560,  0.0924, -0.0557,  0.0626,\n",
      "          0.1369, -0.0121]], grad_fn=<AddmmBackward0>)\n"
     ]
    }
   ],
   "source": [
    "input = torch.randn(1, 1, 32, 32)\n",
    "out = net(input)\n",
    "print(out)"
   ]
  },
  {
   "cell_type": "code",
   "execution_count": 5,
   "id": "d5594bed",
   "metadata": {},
   "outputs": [],
   "source": [
    "net.zero_grad()\n",
    "out.backward(torch.randn(1, 10))"
   ]
  },
  {
   "cell_type": "markdown",
   "id": "bd48e195",
   "metadata": {},
   "source": [
    "### 손실 함수"
   ]
  },
  {
   "cell_type": "code",
   "execution_count": 6,
   "id": "35c9322c",
   "metadata": {},
   "outputs": [
    {
     "name": "stdout",
     "output_type": "stream",
     "text": [
      "tensor(0.9976, grad_fn=<MseLossBackward0>)\n"
     ]
    }
   ],
   "source": [
    "output = net(input)\n",
    "target = torch.randn(10)  # a dummy target, for example\n",
    "target = target.view(1, -1)  # make it the same shape as output\n",
    "criterion = nn.MSELoss()\n",
    "\n",
    "loss = criterion(output, target)\n",
    "print(loss)"
   ]
  },
  {
   "cell_type": "code",
   "execution_count": 7,
   "id": "dc294da4",
   "metadata": {},
   "outputs": [
    {
     "name": "stdout",
     "output_type": "stream",
     "text": [
      "<MseLossBackward0 object at 0x00000234B860ABE0>\n",
      "<AddmmBackward0 object at 0x00000234B860AC70>\n",
      "<AccumulateGrad object at 0x00000234B860ABE0>\n"
     ]
    }
   ],
   "source": [
    "print(loss.grad_fn)  # MSELoss\n",
    "print(loss.grad_fn.next_functions[0][0])  # Linear\n",
    "print(loss.grad_fn.next_functions[0][0].next_functions[0][0])  # ReLU"
   ]
  },
  {
   "cell_type": "markdown",
   "id": "18f13896",
   "metadata": {},
   "source": [
    "### 역전파"
   ]
  },
  {
   "cell_type": "code",
   "execution_count": 8,
   "id": "b66b9eb8",
   "metadata": {},
   "outputs": [
    {
     "name": "stdout",
     "output_type": "stream",
     "text": [
      "conv1.bias.grad before backward\n",
      "tensor([0., 0., 0., 0., 0., 0.])\n",
      "conv1.bias.grad after backward\n",
      "tensor([-0.0016,  0.0023, -0.0093,  0.0130,  0.0007, -0.0219])\n"
     ]
    }
   ],
   "source": [
    "net.zero_grad()     # zeroes the gradient buffers of all parameters\n",
    "\n",
    "print('conv1.bias.grad before backward')\n",
    "print(net.conv1.bias.grad)\n",
    "\n",
    "loss.backward()\n",
    "\n",
    "print('conv1.bias.grad after backward')\n",
    "print(net.conv1.bias.grad)"
   ]
  },
  {
   "cell_type": "markdown",
   "id": "f521cc5d",
   "metadata": {},
   "source": [
    "### 가중치 업데이트"
   ]
  },
  {
   "cell_type": "code",
   "execution_count": 10,
   "id": "fb949124",
   "metadata": {},
   "outputs": [],
   "source": [
    "learning_rate = 0.01\n",
    "for f in net.parameters():\n",
    "    f.data.sub_(f.grad.data * learning_rate)"
   ]
  },
  {
   "cell_type": "code",
   "execution_count": 11,
   "id": "b32a8997",
   "metadata": {},
   "outputs": [],
   "source": [
    "import torch.optim as optim\n",
    "\n",
    "# create your optimizer\n",
    "optimizer = optim.SGD(net.parameters(), lr=0.01)\n",
    "\n",
    "# in your training loop:\n",
    "optimizer.zero_grad()   # zero the gradient buffers\n",
    "output = net(input)\n",
    "loss = criterion(output, target)\n",
    "loss.backward()\n",
    "optimizer.step()    # Does the update"
   ]
  }
 ],
 "metadata": {
  "kernelspec": {
   "display_name": "PYT",
   "language": "python",
   "name": "pyt"
  },
  "language_info": {
   "codemirror_mode": {
    "name": "ipython",
    "version": 3
   },
   "file_extension": ".py",
   "mimetype": "text/x-python",
   "name": "python",
   "nbconvert_exporter": "python",
   "pygments_lexer": "ipython3",
   "version": "3.8.0"
  }
 },
 "nbformat": 4,
 "nbformat_minor": 5
}
