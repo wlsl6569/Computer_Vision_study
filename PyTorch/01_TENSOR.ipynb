{
 "cells": [
  {
   "cell_type": "markdown",
   "id": "dbb715d9",
   "metadata": {},
   "source": [
    "# 텐서\n",
    "\n",
    "- 파이토치의 텐서는 다차원 배열로, 넘파이(Numpy) 배열과 매우 유사하며, 머신 러닝 모델의 입력 데이터, 가중치, 그라디언트 등을 표현하는데 사용"
   ]
  },
  {
   "cell_type": "code",
   "execution_count": 1,
   "id": "7825be41",
   "metadata": {},
   "outputs": [],
   "source": [
    "import torch\n",
    "import numpy as np"
   ]
  },
  {
   "cell_type": "markdown",
   "id": "a820ead1",
   "metadata": {},
   "source": [
    "### 텐서 생성하는 방법"
   ]
  },
  {
   "cell_type": "markdown",
   "id": "a6b3c22d",
   "metadata": {},
   "source": [
    "- 데이터 리스트를 텐서로 변환"
   ]
  },
  {
   "cell_type": "code",
   "execution_count": 3,
   "id": "17ef8d99",
   "metadata": {},
   "outputs": [
    {
     "name": "stdout",
     "output_type": "stream",
     "text": [
      "[[1, 2], [3, 4]]\n",
      "<class 'list'>\n",
      "tensor([[1, 2],\n",
      "        [3, 4]])\n",
      "<class 'torch.Tensor'>\n"
     ]
    }
   ],
   "source": [
    "data = [[1,2], [3,4]]\n",
    "print(data)\n",
    "print(type(data))\n",
    "x_data = torch.tensor(data)\n",
    "print(x_data)\n",
    "print(type(x_data))"
   ]
  },
  {
   "cell_type": "markdown",
   "id": "ba8febb6",
   "metadata": {},
   "source": [
    "- Numpy 배열에서 텐서로 변환"
   ]
  },
  {
   "cell_type": "code",
   "execution_count": 7,
   "id": "d8a20cb7",
   "metadata": {},
   "outputs": [
    {
     "name": "stdout",
     "output_type": "stream",
     "text": [
      "[[1 2]\n",
      " [3 4]]\n",
      "<class 'numpy.ndarray'>\n",
      "tensor([[1, 2],\n",
      "        [3, 4]], dtype=torch.int32)\n",
      "<class 'torch.Tensor'>\n"
     ]
    }
   ],
   "source": [
    "np_array = np.array(data)\n",
    "print(np_array)\n",
    "print(type(np_array))\n",
    "x_np = torch.from_numpy(np_array)\n",
    "print(x_np)\n",
    "print(type(x_np))"
   ]
  },
  {
   "cell_type": "markdown",
   "id": "9ab9ca0a",
   "metadata": {},
   "source": [
    "- 랜덤값이나 상수값으로 텐서만들기"
   ]
  },
  {
   "cell_type": "code",
   "execution_count": 8,
   "id": "4b029855",
   "metadata": {},
   "outputs": [
    {
     "name": "stdout",
     "output_type": "stream",
     "text": [
      "Random Tensor: \n",
      " tensor([[0.7034, 0.3650, 0.9029],\n",
      "        [0.3267, 0.4169, 0.4813]]) \n",
      "\n",
      "Ones Tensor: \n",
      " tensor([[1., 1., 1.],\n",
      "        [1., 1., 1.]]) \n",
      "\n",
      "Zeros Tensor: \n",
      " tensor([[0., 0., 0.],\n",
      "        [0., 0., 0.]])\n"
     ]
    }
   ],
   "source": [
    "shape = (2, 3,)\n",
    "rand_tensor = torch.rand(shape)\n",
    "ones_tensor = torch.ones(shape)\n",
    "zeros_tensor = torch.zeros(shape)\n",
    "\n",
    "print(f\"Random Tensor: \\n {rand_tensor} \\n\")\n",
    "print(f\"Ones Tensor: \\n {ones_tensor} \\n\")\n",
    "print(f\"Zeros Tensor: \\n {zeros_tensor}\")"
   ]
  },
  {
   "cell_type": "markdown",
   "id": "1006330d",
   "metadata": {},
   "source": [
    "### 텐서의 속성 보기"
   ]
  },
  {
   "cell_type": "code",
   "execution_count": 9,
   "id": "5f5fdeb1",
   "metadata": {},
   "outputs": [
    {
     "name": "stdout",
     "output_type": "stream",
     "text": [
      "Shape of tensor: torch.Size([3, 4])\n",
      "Datatype of tensor: torch.float32\n",
      "Device tensor is stored on: cpu\n"
     ]
    }
   ],
   "source": [
    "tensor = torch.rand(3, 4)\n",
    "\n",
    "print(f\"Shape of tensor: {tensor.shape}\")\n",
    "print(f\"Datatype of tensor: {tensor.dtype}\")\n",
    "print(f\"Device tensor is stored on: {tensor.device}\")"
   ]
  },
  {
   "cell_type": "markdown",
   "id": "3498977f",
   "metadata": {},
   "source": [
    "### 텐서의 운영시스템 보기"
   ]
  },
  {
   "cell_type": "code",
   "execution_count": 10,
   "id": "4f8a9259",
   "metadata": {},
   "outputs": [
    {
     "name": "stdout",
     "output_type": "stream",
     "text": [
      "Device tensor is stored on: cuda:0\n"
     ]
    }
   ],
   "source": [
    "# We move our tensor to the GPU if available\n",
    "if torch.cuda.is_available():\n",
    "  tensor = tensor.to('cuda')\n",
    "  print(f\"Device tensor is stored on: {tensor.device}\")"
   ]
  },
  {
   "cell_type": "markdown",
   "id": "bd79bdc7",
   "metadata": {},
   "source": [
    "### 넘파이 슬라이싱"
   ]
  },
  {
   "cell_type": "code",
   "execution_count": 45,
   "id": "b7889a95",
   "metadata": {},
   "outputs": [
    {
     "name": "stdout",
     "output_type": "stream",
     "text": [
      "tensor([[1., 1., 0., 1.],\n",
      "        [1., 1., 0., 1.],\n",
      "        [1., 1., 1., 1.],\n",
      "        [1., 1., 1., 1.]])\n"
     ]
    }
   ],
   "source": [
    "tensor = torch.ones(4, 4)\n",
    "tensor[:2,2] = 0                #  [행: 갯수,열]\n",
    "print(tensor)"
   ]
  },
  {
   "cell_type": "code",
   "execution_count": 54,
   "id": "d6d69f9a",
   "metadata": {},
   "outputs": [
    {
     "name": "stdout",
     "output_type": "stream",
     "text": [
      "tensor([[0.7124, 0.9233, 0.2714, 0.1680],\n",
      "        [0.9047, 0.4229, 0.8150, 0.6490],\n",
      "        [0.6327, 0.3149, 0.7396, 0.9966],\n",
      "        [0.2083, 0.0312, 0.4332, 0.0271]])\n"
     ]
    }
   ],
   "source": [
    "tensor1 = torch.rand(4, 4)\n",
    "tensor[1:3,2] = 0\n",
    "print(tensor1)"
   ]
  },
  {
   "cell_type": "code",
   "execution_count": 55,
   "id": "7effd709",
   "metadata": {},
   "outputs": [
    {
     "name": "stdout",
     "output_type": "stream",
     "text": [
      "tensor([[1., 1., 1., 1.],\n",
      "        [1., 1., 1., 1.],\n",
      "        [1., 1., 1., 1.],\n",
      "        [1., 1., 1., 1.]])\n"
     ]
    }
   ],
   "source": [
    "tensor2 = torch.ones(4, 4)\n",
    "tensor[:1,3] = 0\n",
    "print(tensor2)"
   ]
  },
  {
   "cell_type": "markdown",
   "id": "9092c9d7",
   "metadata": {},
   "source": [
    "### 텐서 합치기"
   ]
  },
  {
   "cell_type": "code",
   "execution_count": 56,
   "id": "8fa01764",
   "metadata": {},
   "outputs": [
    {
     "name": "stdout",
     "output_type": "stream",
     "text": [
      "tensor([[1.0000, 1.0000, 0.0000, 0.0000, 0.7124, 0.9233, 0.2714, 0.1680, 1.0000,\n",
      "         1.0000, 1.0000, 1.0000],\n",
      "        [1.0000, 1.0000, 0.0000, 1.0000, 0.9047, 0.4229, 0.8150, 0.6490, 1.0000,\n",
      "         1.0000, 1.0000, 1.0000],\n",
      "        [1.0000, 1.0000, 0.0000, 1.0000, 0.6327, 0.3149, 0.7396, 0.9966, 1.0000,\n",
      "         1.0000, 1.0000, 1.0000],\n",
      "        [1.0000, 1.0000, 1.0000, 1.0000, 0.2083, 0.0312, 0.4332, 0.0271, 1.0000,\n",
      "         1.0000, 1.0000, 1.0000]])\n"
     ]
    }
   ],
   "source": [
    "t1 = torch.cat([tensor, tensor1, tensor2], dim=1)\n",
    "print(t1)"
   ]
  },
  {
   "cell_type": "markdown",
   "id": "97bbcd87",
   "metadata": {},
   "source": [
    "### 텐서 끼리 곱하기"
   ]
  },
  {
   "cell_type": "code",
   "execution_count": 59,
   "id": "d07b79c8",
   "metadata": {},
   "outputs": [
    {
     "name": "stdout",
     "output_type": "stream",
     "text": [
      "tensor.mul(tensor) \n",
      " tensor([[0.7124, 0.9233, 0.0000, 0.0000],\n",
      "        [0.9047, 0.4229, 0.0000, 0.6490],\n",
      "        [0.6327, 0.3149, 0.0000, 0.9966],\n",
      "        [0.2083, 0.0312, 0.4332, 0.0271]]) \n",
      "\n",
      "tensor * tensor \n",
      " tensor([[0.7124, 0.9233, 0.0000, 0.0000],\n",
      "        [0.9047, 0.4229, 0.0000, 0.6490],\n",
      "        [0.6327, 0.3149, 0.0000, 0.9966],\n",
      "        [0.2083, 0.0312, 0.4332, 0.0271]])\n"
     ]
    }
   ],
   "source": [
    "# tensor.mul 로 텐서 끼리 곱하기\n",
    "print(f\"tensor.mul(tensor) \\n {tensor.mul(tensor1)} \\n\")\n",
    "# *로 텐서끼리 곱하기\n",
    "print(f\"tensor * tensor \\n {tensor * tensor1}\")"
   ]
  },
  {
   "cell_type": "markdown",
   "id": "ff47d1aa",
   "metadata": {},
   "source": [
    "### 텐서에 전체적으로 특정 숫자 더해주기"
   ]
  },
  {
   "cell_type": "code",
   "execution_count": 61,
   "id": "71d3933d",
   "metadata": {},
   "outputs": [
    {
     "name": "stdout",
     "output_type": "stream",
     "text": [
      "tensor([[6., 6., 5., 5.],\n",
      "        [6., 6., 5., 6.],\n",
      "        [6., 6., 5., 6.],\n",
      "        [6., 6., 6., 6.]]) \n",
      "\n",
      "tensor([[9., 9., 8., 8.],\n",
      "        [9., 9., 8., 9.],\n",
      "        [9., 9., 8., 9.],\n",
      "        [9., 9., 9., 9.]])\n"
     ]
    }
   ],
   "source": [
    "print(tensor, \"\\n\")\n",
    "tensor.add_(3)\n",
    "print(tensor)"
   ]
  },
  {
   "cell_type": "markdown",
   "id": "273b0f1f",
   "metadata": {},
   "source": [
    "# numpy와 tensor의 bridge 기능\n",
    "\n",
    "-파이토치(PyTorch)의 텐서(Tensor)는 CPU 상에서도 동작하는데, 이때 텐서와 넘파이(Numpy) 배열은 서로의 기반 메모리 위치를 공유할 수 있다. 즉, 텐서와 넘파이 배열은 같은 데이터를 가리키게 됩니다. 따라서 하나를 변경하면 다른 하나도 변경되는 특징을 가지고 있다.\n",
    "\n",
    "-gpu에서는 데이터 공유 발생하지 않는다!"
   ]
  },
  {
   "cell_type": "markdown",
   "id": "9eebee75",
   "metadata": {},
   "source": [
    "### 텐서에서 넘파이 배열로"
   ]
  },
  {
   "cell_type": "code",
   "execution_count": 62,
   "id": "6e2ae9d7",
   "metadata": {},
   "outputs": [
    {
     "name": "stdout",
     "output_type": "stream",
     "text": [
      "t: tensor([1., 1., 1., 1., 1.])\n",
      "n: [1. 1. 1. 1. 1.]\n"
     ]
    }
   ],
   "source": [
    "t = torch.ones(5)\n",
    "print(f\"t: {t}\")\n",
    "n = t.numpy()\n",
    "print(f\"n: {n}\")"
   ]
  },
  {
   "cell_type": "code",
   "execution_count": 64,
   "id": "a26a13c1",
   "metadata": {},
   "outputs": [
    {
     "name": "stdout",
     "output_type": "stream",
     "text": [
      "t: tensor([3., 3., 3., 3., 3.])\n",
      "n: [3. 3. 3. 3. 3.]\n"
     ]
    }
   ],
   "source": [
    "# 텐서에 1을 더하고 같은 메모리 공간을 공유하는 넘파이 배열도 영향받는지 확인해보기\n",
    "t.add_(1)\n",
    "print(f\"t: {t}\")\n",
    "print(f\"n: {n}\")"
   ]
  },
  {
   "cell_type": "code",
   "execution_count": null,
   "id": "c296d529",
   "metadata": {},
   "outputs": [],
   "source": []
  }
 ],
 "metadata": {
  "kernelspec": {
   "display_name": "PYT",
   "language": "python",
   "name": "pyt"
  },
  "language_info": {
   "codemirror_mode": {
    "name": "ipython",
    "version": 3
   },
   "file_extension": ".py",
   "mimetype": "text/x-python",
   "name": "python",
   "nbconvert_exporter": "python",
   "pygments_lexer": "ipython3",
   "version": "3.8.0"
  }
 },
 "nbformat": 4,
 "nbformat_minor": 5
}
