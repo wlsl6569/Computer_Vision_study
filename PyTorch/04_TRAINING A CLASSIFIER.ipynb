{
 "cells": [
  {
   "cell_type": "markdown",
   "id": "d374f205",
   "metadata": {},
   "source": [
    "# TRAINING A CLASSIFIER"
   ]
  },
  {
   "cell_type": "code",
   "execution_count": 14,
   "id": "d2f5dcfe",
   "metadata": {},
   "outputs": [],
   "source": [
    "import torch\n",
    "import torchvision\n",
    "import torchvision.transforms as transforms"
   ]
  },
  {
   "cell_type": "markdown",
   "id": "1029ccd0",
   "metadata": {},
   "source": [
    "### 토치비전을 사용하여 CIFAR10 교육 및 테스트 데이터 세트 로드 및 정규화"
   ]
  },
  {
   "cell_type": "code",
   "execution_count": 15,
   "id": "40e6319d",
   "metadata": {},
   "outputs": [
    {
     "name": "stdout",
     "output_type": "stream",
     "text": [
      "Files already downloaded and verified\n",
      "Files already downloaded and verified\n"
     ]
    }
   ],
   "source": [
    "# transforms.Compose\n",
    "#  여러 개의 데이터 전처리(transform)를 연결\n",
    "transform = transforms.Compose( \n",
    "    \n",
    "     #PIL 이미지나 NumPy 배열을 PyTorch의 Tensor로 변환하는 작업\n",
    "    #이미지의 각 픽셀 값을 0에서 1 사이의 값으로 변환하여 Tensor로\n",
    "    [transforms.ToTensor(), \n",
    "     \n",
    "     # 이미지의 각 채널에 대해 정규화\n",
    "     # 평균과 표준 편차가 모두 0.5로 설정되면 이미지의 픽셀 값이 -1에서 1 사이의 범위로 정규화\n",
    "     transforms.Normalize((0.5, 0.5, 0.5), (0.5, 0.5, 0.5))])\n",
    "\n",
    "batch_size = 4\n",
    "\n",
    "trainset = torchvision.datasets.CIFAR10(root='./data', train=True,\n",
    "                                        download=True, transform=transform)\n",
    "trainloader = torch.utils.data.DataLoader(trainset, batch_size=batch_size,\n",
    "                                          shuffle=True, num_workers=2)\n",
    "\n",
    "testset = torchvision.datasets.CIFAR10(root='./data', train=False,\n",
    "                                       download=True, transform=transform)\n",
    "testloader = torch.utils.data.DataLoader(testset, batch_size=batch_size,\n",
    "                                         shuffle=False, num_workers=2)\n",
    "\n",
    "classes = ('plane', 'car', 'bird', 'cat',\n",
    "           'deer', 'dog', 'frog', 'horse', 'ship', 'truck')"
   ]
  },
  {
   "cell_type": "code",
   "execution_count": 16,
   "id": "5dfb3a26",
   "metadata": {},
   "outputs": [
    {
     "data": {
      "image/png": "[encoded data removed]",
      "text/plain": [
       "<Figure size 640x480 with 1 Axes>"
      ]
     },
     "metadata": {},
     "output_type": "display_data"
    },
    {
     "name": "stdout",
     "output_type": "stream",
     "text": [
      "cat   ship  deer  plane\n"
     ]
    }
   ],
   "source": [
    "import matplotlib.pyplot as plt\n",
    "import numpy as np\n",
    "\n",
    "# 이미지를 보여주는 함수\n",
    "\n",
    "\n",
    "def imshow(img):\n",
    "    img = img / 2 + 0.5    # 이미지 보기좋게 조정(정규화된 값을 보정)\n",
    "    \n",
    "    #  np.transpose 함수는 NumPy 배열의 차원 순서를 변경\n",
    "    #  이미지를 시각화할 때는 보통 (높이, 너비, 채널 수) 형태로 변경\n",
    "    npimg = img.numpy()\n",
    "    plt.imshow(np.transpose(npimg, (1, 2, 0)))\n",
    "    plt.show()\n",
    "\n",
    "\n",
    "# 랜덤으로 트레인 이미지 가져오기\n",
    "dataiter = iter(trainloader)\n",
    "images, labels = next(dataiter)\n",
    "\n",
    "# 이미지 보기\n",
    "imshow(torchvision.utils.make_grid(images))\n",
    "# 라벨 프린트\n",
    "print(' '.join(f'{classes[labels[j]]:5s}' for j in range(batch_size)))"
   ]
  },
  {
   "cell_type": "markdown",
   "id": "ac15277b",
   "metadata": {},
   "source": [
    "### CNN 신경망 정의"
   ]
  },
  {
   "cell_type": "code",
   "execution_count": 17,
   "id": "841addb5",
   "metadata": {},
   "outputs": [],
   "source": [
    "import torch.nn as nn\n",
    "import torch.nn.functional as F\n",
    "\n",
    "\n",
    "class Net(nn.Module):\n",
    "    def __init__(self):\n",
    "        super().__init__()\n",
    "        \n",
    "        # 순전파에 사용되는 요소들 정의\n",
    "        \n",
    "        \n",
    "        # 입력 채널이 3개이고 출력 채널이 6개인 5x5 크기의 컨볼루션 필터\n",
    "        self.conv1 = nn.Conv2d(3, 6, 5) \n",
    "        \n",
    "        #  2x2 크기의 맥스 풀링 연산을 정의\n",
    "        # 맥스 풀링은 이미지를 작게 만들어주고 중요한 정보를 강조\n",
    "        self.pool = nn.MaxPool2d(2, 2)\n",
    "        \n",
    "        # 입력 채널이 6개이고 출력 채널이 16개인 5x5 크기의 컨볼루션 필터를 정의\n",
    "        self.conv2 = nn.Conv2d(6, 16, 5)\n",
    "        \n",
    "        # 6x5x5 크기의 특성맵을 1차원으로 펼친 후, 120개의 뉴런을 가지는 fully connected 층 정의\n",
    "        self.fc1 = nn.Linear(16 * 5 * 5, 120)\n",
    "        \n",
    "        #  120개의 뉴런을 가지는 또 다른 완전 연결 층을 정의\n",
    "        self.fc2 = nn.Linear(120, 84)\n",
    "        \n",
    "        # 84개의 뉴런을 가지며, 10개의 출력을 내는 완전 연결 층을 정의\n",
    "        self.fc3 = nn.Linear(84, 10)\n",
    "\n",
    "        \n",
    "    # 순전파 함수\n",
    "    def forward(self, x):\n",
    "        \n",
    "        # x를 conv1층에 통과시킨다 (활성화 함수로 ReLu사용)\n",
    "        x = self.pool(F.relu(self.conv1(x)))\n",
    "        \n",
    "        # x를 cov2층 통과시킨후 (활성함수 ReLu) pool 통해 이미지 작게 만들기\n",
    "        x = self.pool(F.relu(self.conv2(x)))\n",
    "        \n",
    "        # 모든 차원을 제외하고 평탄화\n",
    "        x = torch.flatten(x, 1) \n",
    "        \n",
    "        # fc1 층을 통과하여 120개의 뉴런을 가진 완전 연결 층 통과\n",
    "        x = F.relu(self.fc1(x))\n",
    "        \n",
    "        #  ReLU와 fc2 층을 거친다\n",
    "        x = F.relu(self.fc2(x))\n",
    "        \n",
    "        # 최종 fc3 층을 거쳐 10개의 출력을 얻기\n",
    "        x = self.fc3(x)\n",
    "        return x\n",
    "\n",
    "\n",
    "net = Net()"
   ]
  },
  {
   "cell_type": "markdown",
   "id": "2995faba",
   "metadata": {},
   "source": [
    "### 손실 함수와 옵티마이저 정의"
   ]
  },
  {
   "cell_type": "code",
   "execution_count": 18,
   "id": "26b0776f",
   "metadata": {},
   "outputs": [],
   "source": [
    "import torch.optim as optim\n",
    "\n",
    "# 손실함수 정의\n",
    "# 다중 클래스 분류에 사용하는 크로스 엔트로피 손실 함수\n",
    "criterion = nn.CrossEntropyLoss()\n",
    "\n",
    "# 옵티마이저 정의\n",
    "# 확률적 경사 하강법(SGD), 학습률(매개변수 얼마나 크게 업데이트?) = 0.001, 모멘텀은 이전에 이동한 방향에선 가속도 내주는 역할\n",
    "optimizer = optim.SGD(net.parameters(), lr=0.001, momentum=0.9)"
   ]
  },
  {
   "cell_type": "markdown",
   "id": "a5db1288",
   "metadata": {},
   "source": [
    "### 트레이닝"
   ]
  },
  {
   "cell_type": "code",
   "execution_count": null,
   "id": "16a99741",
   "metadata": {},
   "outputs": [
    {
     "name": "stdout",
     "output_type": "stream",
     "text": [
      "[1,  2000] loss: 1.156\n",
      "[1,  4000] loss: 1.147\n",
      "[1,  6000] loss: 1.161\n",
      "[1,  8000] loss: 1.130\n",
      "[1, 10000] loss: 1.126\n",
      "[1, 12000] loss: 1.154\n",
      "[2,  2000] loss: 1.137\n",
      "[2,  4000] loss: 1.150\n",
      "[2,  6000] loss: 1.161\n",
      "[2,  8000] loss: 1.154\n",
      "[2, 10000] loss: 1.146\n",
      "[2, 12000] loss: 1.145\n",
      "[3,  2000] loss: 1.127\n",
      "[3,  4000] loss: 1.159\n",
      "[3,  6000] loss: 1.167\n",
      "[3,  8000] loss: 1.138\n",
      "[3, 10000] loss: 1.143\n",
      "[3, 12000] loss: 1.146\n",
      "[4,  2000] loss: 1.142\n",
      "[4,  4000] loss: 1.152\n",
      "[4,  6000] loss: 1.135\n",
      "[4,  8000] loss: 1.163\n",
      "[4, 10000] loss: 1.137\n",
      "[4, 12000] loss: 1.144\n",
      "[5,  2000] loss: 1.144\n",
      "[5,  4000] loss: 1.157\n",
      "[5,  6000] loss: 1.137\n",
      "[5,  8000] loss: 1.143\n",
      "[5, 10000] loss: 1.142\n",
      "[5, 12000] loss: 1.143\n",
      "[6,  2000] loss: 1.146\n",
      "[6,  4000] loss: 1.125\n",
      "[6,  6000] loss: 1.151\n",
      "[6,  8000] loss: 1.143\n",
      "[6, 10000] loss: 1.164\n",
      "[6, 12000] loss: 1.162\n",
      "[7,  2000] loss: 1.141\n",
      "[7,  4000] loss: 1.154\n",
      "[7,  6000] loss: 1.133\n",
      "[7,  8000] loss: 1.153\n",
      "[7, 10000] loss: 1.159\n",
      "[7, 12000] loss: 1.133\n",
      "[8,  2000] loss: 1.158\n",
      "[8,  4000] loss: 1.146\n",
      "[8,  6000] loss: 1.141\n",
      "[8,  8000] loss: 1.136\n",
      "[8, 10000] loss: 1.161\n",
      "[8, 12000] loss: 1.142\n",
      "[9,  2000] loss: 1.154\n",
      "[9,  4000] loss: 1.144\n",
      "[9,  6000] loss: 1.146\n",
      "[9,  8000] loss: 1.161\n",
      "[9, 10000] loss: 1.148\n",
      "[9, 12000] loss: 1.125\n",
      "[10,  2000] loss: 1.139\n",
      "[10,  4000] loss: 1.150\n",
      "[10,  6000] loss: 1.144\n",
      "[10,  8000] loss: 1.169\n",
      "[10, 10000] loss: 1.132\n",
      "[10, 12000] loss: 1.145\n",
      "[11,  2000] loss: 1.158\n",
      "[11,  4000] loss: 1.156\n",
      "[11,  6000] loss: 1.139\n",
      "[11,  8000] loss: 1.145\n",
      "[11, 10000] loss: 1.150\n",
      "[11, 12000] loss: 1.139\n",
      "[12,  2000] loss: 1.145\n",
      "[12,  4000] loss: 1.147\n",
      "[12,  6000] loss: 1.169\n",
      "[12,  8000] loss: 1.136\n",
      "[12, 10000] loss: 1.135\n",
      "[12, 12000] loss: 1.152\n",
      "[13,  2000] loss: 1.153\n",
      "[13,  4000] loss: 1.131\n",
      "[13,  6000] loss: 1.140\n",
      "[13,  8000] loss: 1.149\n",
      "[13, 10000] loss: 1.154\n",
      "[13, 12000] loss: 1.154\n",
      "[14,  2000] loss: 1.139\n",
      "[14,  4000] loss: 1.146\n",
      "[14,  6000] loss: 1.138\n",
      "[14,  8000] loss: 1.144\n",
      "[14, 10000] loss: 1.164\n",
      "[14, 12000] loss: 1.141\n",
      "[15,  2000] loss: 1.128\n",
      "[15,  4000] loss: 1.146\n",
      "[15,  6000] loss: 1.167\n",
      "[15,  8000] loss: 1.134\n",
      "[15, 10000] loss: 1.170\n",
      "[15, 12000] loss: 1.142\n",
      "[16,  2000] loss: 1.166\n",
      "[16,  4000] loss: 1.132\n",
      "[16,  6000] loss: 1.145\n",
      "[16,  8000] loss: 1.151\n"
     ]
    }
   ],
   "source": [
    "for epoch in range(20):\n",
    "    running_loss = 0.0  # 손실을 누적할 변수를 초기화\n",
    "\n",
    "    # trainloader에서 미니 배치를 하나씩 가져와 학습을 진행\n",
    "    for i, data in enumerate(trainloader, 0):\n",
    "        # 미니 배치에서 입력과 레이블을 가져오기\n",
    "        inputs, labels = data\n",
    "\n",
    "        # 매개변수의 그래디언트를 초기화\n",
    "        optimizer.zero_grad()\n",
    "\n",
    "        # 순전파(forward) + 역전파(backward) + 매개변수 업데이트를 수행\n",
    "        outputs = net(inputs)   # 신경망에 입력을 전달하여 출력을 얻기\n",
    "        loss = criterion(outputs, labels)   # 손실 함수를 사용하여 예측과 실제 레이블 사이의 손실을 계산\n",
    "        loss.backward()   # 손실의 그래디언트를 계산\n",
    "        optimizer.step()   # 옵티마이저를 사용하여 신경망의 매개변수를 업데이트\n",
    "\n",
    "        # 통계 정보를 출력\n",
    "        running_loss += loss.item()\n",
    "        if i % 2000 == 1999:   # 매 2000개의 미니 배치마다 손실을 출력합니다.\n",
    "            print(f'[{epoch + 1}, {i + 1:5d}] loss: {running_loss / 2000:.3f}')\n",
    "            running_loss = 0.0\n",
    "\n",
    "\n",
    "print('Finished Training')"
   ]
  },
  {
   "cell_type": "markdown",
   "id": "dbda81eb",
   "metadata": {},
   "source": [
    "### 모델 저장"
   ]
  },
  {
   "cell_type": "code",
   "execution_count": 20,
   "id": "be70571d",
   "metadata": {},
   "outputs": [],
   "source": [
    "PATH = './cifar_net.pth'\n",
    "torch.save(net.state_dict(), PATH)"
   ]
  },
  {
   "cell_type": "markdown",
   "id": "994ffdb1",
   "metadata": {},
   "source": [
    "### 학습이 제대로 되었는지 확인"
   ]
  },
  {
   "cell_type": "code",
   "execution_count": 21,
   "id": "a8f358e7",
   "metadata": {},
   "outputs": [
    {
     "data": {
      "image/png": "[encoded data removed]",
      "text/plain": [
       "<Figure size 640x480 with 1 Axes>"
      ]
     },
     "metadata": {},
     "output_type": "display_data"
    },
    {
     "name": "stdout",
     "output_type": "stream",
     "text": [
      "GroundTruth:  cat   ship  ship  plane\n"
     ]
    }
   ],
   "source": [
    "dataiter = iter(testloader) # 데이터를 순회 가능한(iterable) 객체로 변환\n",
    "images, labels = next(dataiter)\n",
    "\n",
    "# 이미지 보기\n",
    "imshow(torchvision.utils.make_grid(images))\n",
    "#  labels 리스트에서 처음 4개 레이블에 해당하는 클래스 이름을 문자열로 변환하여 출력\n",
    "print('GroundTruth: ', ' '.join(f'{classes[labels[j]]:5s}' for j in range(4)))"
   ]
  },
  {
   "cell_type": "markdown",
   "id": "0d111572",
   "metadata": {},
   "source": [
    "### 저장했던 모델 불러오기"
   ]
  },
  {
   "cell_type": "code",
   "execution_count": 22,
   "id": "6853e823",
   "metadata": {},
   "outputs": [
    {
     "data": {
      "text/plain": [
       "<All keys matched successfully>"
      ]
     },
     "execution_count": 22,
     "metadata": {},
     "output_type": "execute_result"
    }
   ],
   "source": [
    "net = Net()\n",
    "net.load_state_dict(torch.load(PATH))"
   ]
  },
  {
   "cell_type": "markdown",
   "id": "6ba391ca",
   "metadata": {},
   "source": [
    "### 모델에 이미지 돌려보기"
   ]
  },
  {
   "cell_type": "code",
   "execution_count": 23,
   "id": "b8306cea",
   "metadata": {},
   "outputs": [],
   "source": [
    "outputs = net(images)"
   ]
  },
  {
   "cell_type": "markdown",
   "id": "e4081019",
   "metadata": {},
   "source": [
    "### 이미지를 분류한 결과를 출력"
   ]
  },
  {
   "cell_type": "code",
   "execution_count": 24,
   "id": "03dbc4d0",
   "metadata": {},
   "outputs": [
    {
     "name": "stdout",
     "output_type": "stream",
     "text": [
      "Predicted:  cat   car   car   plane\n"
     ]
    }
   ],
   "source": [
    "_, predicted = torch.max(outputs, 1)\n",
    "\n",
    "print('Predicted: ', ' '.join(f'{classes[predicted[j]]:5s}'\n",
    "                              for j in range(4)))"
   ]
  },
  {
   "cell_type": "markdown",
   "id": "08f245a2",
   "metadata": {},
   "source": [
    "### 신경망 모델 성능 평가"
   ]
  },
  {
   "cell_type": "code",
   "execution_count": 25,
   "id": "9d4df3ca",
   "metadata": {},
   "outputs": [
    {
     "name": "stdout",
     "output_type": "stream",
     "text": [
      "Accuracy of the network on the 10000 test images: 56 %\n"
     ]
    }
   ],
   "source": [
    "correct = 0\n",
    "total = 0\n",
    "# 그라디언트를 계산하지 않도록 설정\n",
    "with torch.no_grad():\n",
    "    for data in testloader:\n",
    "        images, labels = data\n",
    "        # 테스트 데이터를 모델에 입력하여 예측\n",
    "        outputs = net(images)\n",
    "        # 예측된 클래스 레이블을 계산\n",
    "        # outputs.data는 모델의 출력 텐서, torch.max를 사용하여 최댓값과 해당 인덱스를 구함\n",
    "        _, predicted = torch.max(outputs.data, 1)\n",
    "        total += labels.size(0)\n",
    "        # 예측과 실제 레이블이 일치하는 경우를 카운트\n",
    "        correct += (predicted == labels).sum().item()\n",
    "\n",
    "print(f'Accuracy of the network on the 10000 test images: {100 * correct // total} %')"
   ]
  },
  {
   "cell_type": "markdown",
   "id": "61bb14bb",
   "metadata": {},
   "source": [
    "### 각 클래스 별 정확도"
   ]
  },
  {
   "cell_type": "code",
   "execution_count": 26,
   "id": "951cdd73",
   "metadata": {},
   "outputs": [
    {
     "name": "stdout",
     "output_type": "stream",
     "text": [
      "Accuracy for class: plane is 69.7 %\n",
      "Accuracy for class: car   is 77.6 %\n",
      "Accuracy for class: bird  is 42.5 %\n",
      "Accuracy for class: cat   is 28.5 %\n",
      "Accuracy for class: deer  is 48.5 %\n",
      "Accuracy for class: dog   is 47.6 %\n",
      "Accuracy for class: frog  is 75.0 %\n",
      "Accuracy for class: horse is 57.8 %\n",
      "Accuracy for class: ship  is 53.6 %\n",
      "Accuracy for class: truck is 67.0 %\n"
     ]
    }
   ],
   "source": [
    "# 각 클래스별 정확도 계산하기\n",
    "# 다시 한번 그라디언트가 필요하지 않으므로 torch.no_grad() 내에서 실행\n",
    "correct_pred = {classname: 0 for classname in classes}\n",
    "total_pred = {classname: 0 for classname in classes}\n",
    "with torch.no_grad():\n",
    "    for data in testloader:\n",
    "        images, labels = data\n",
    "        outputs = net(images)\n",
    "        _, predictions = torch.max(outputs, 1)\n",
    "        # 각 클래스별로 정확히 분류된 이미지 개수를 세고 총 이미지 개수를 카운트\n",
    "        for label, prediction in zip(labels, predictions):\n",
    "            if label == prediction:\n",
    "                correct_pred[classes[label]] += 1\n",
    "            total_pred[classes[label]] += 1\n",
    "\n",
    "# 각 클래스별 정확도 출력\n",
    "for classname, correct_count in correct_pred.items():\n",
    "    accuracy = 100 * float(correct_count) / total_pred[classname]\n",
    "    print(f'Accuracy for class: {classname:5s} is {accuracy:.1f} %')"
   ]
  }
 ],
 "metadata": {
  "kernelspec": {
   "display_name": "PYT",
   "language": "python",
   "name": "pyt"
  },
  "language_info": {
   "codemirror_mode": {
    "name": "ipython",
    "version": 3
   },
   "file_extension": ".py",
   "mimetype": "text/x-python",
   "name": "python",
   "nbconvert_exporter": "python",
   "pygments_lexer": "ipython3",
   "version": "3.8.0"
  }
 },
 "nbformat": 4,
 "nbformat_minor": 5
}
