{
 "cells": [
  {
   "cell_type": "markdown",
   "id": "33c08ab6",
   "metadata": {},
   "source": [
    "# LeNet-5 실습 "
   ]
  },
  {
   "cell_type": "code",
   "execution_count": 1,
   "id": "6d06c283",
   "metadata": {},
   "outputs": [],
   "source": [
    "import torch\n",
    "import torch.nn as nn\n",
    "import torch.optim as optim\n",
    "import torchvision\n",
    "import torchvision.transforms as transforms"
   ]
  },
  {
   "cell_type": "markdown",
   "id": "5d742707",
   "metadata": {},
   "source": [
    "### CIFAR-10 데이터 셋 로드"
   ]
  },
  {
   "cell_type": "code",
   "execution_count": 2,
   "id": "6c07cc4e",
   "metadata": {},
   "outputs": [],
   "source": [
    "# transfrom\n",
    "train_transform = transforms.Compose([\n",
    "    transforms.ToTensor(),\n",
    "    transforms.Normalize((0.5, 0.5, 0.5), (0.5, 0.5, 0.5)) # 이미지를 정규화\n",
    "])\n",
    "\n",
    "test_transform = transforms.Compose([\n",
    "    transforms.ToTensor(),\n",
    "    transforms.Normalize((0.5, 0.5, 0.5), (0.5, 0.5, 0.5)) # 이미지를 정규화\n",
    "])"
   ]
  },
  {
   "cell_type": "code",
   "execution_count": 3,
   "id": "c7106844",
   "metadata": {},
   "outputs": [
    {
     "name": "stdout",
     "output_type": "stream",
     "text": [
      "Files already downloaded and verified\n",
      "Files already downloaded and verified\n"
     ]
    }
   ],
   "source": [
    "\n",
    "\n",
    "trainset = torchvision.datasets.CIFAR10(root='./data', train=True, download=True, transform=train_transform)\n",
    "trainloader = torch.utils.data.DataLoader(trainset, batch_size=64, shuffle=True)\n",
    "\n",
    "testset = torchvision.datasets.CIFAR10(root='./data', train=False, download=True, transform=test_transform)\n",
    "testloader = torch.utils.data.DataLoader(trainset, batch_size=64, shuffle=False)\n",
    "\n"
   ]
  },
  {
   "cell_type": "markdown",
   "id": "3b3e6899",
   "metadata": {},
   "source": [
    "### LeNet-5 모델"
   ]
  },
  {
   "cell_type": "code",
   "execution_count": 7,
   "id": "c41bd263",
   "metadata": {},
   "outputs": [],
   "source": [
    "import torch\n",
    "import torch.nn as nn\n",
    "\n",
    "class RFNet(nn.Module):\n",
    "    def __init__(self):\n",
    "        super(RFNet, self).__init__()\n",
    "        # Convolutional layer 1: 입력 채널 수 3, 출력 채널 수 32, 커널 크기 3x3\n",
    "        self.conv1 = nn.Conv2d(3, 32, 3)\n",
    "        # Max Pooling layer: 풀링 영역 크기 2x2, 스트라이드 2x2\n",
    "        self.pool = nn.MaxPool2d(2, 2)\n",
    "        # Convolutional layer 2: 입력 채널 수 32, 출력 채널 수 64, 커널 크기 3x3\n",
    "        self.conv2 = nn.Conv2d(32, 64, 3)\n",
    "        # Fully Connected (Linear) layer 1: 입력 노드 수 64 * 6 * 6, 출력 노드 수 64\n",
    "        self.fc1 = nn.Linear(64 * 6 * 6, 64)\n",
    "        # Fully Connected (Linear) layer 2: 입력 노드 수 64, 출력 노드 수 10\n",
    "        self.fc2 = nn.Linear(64, 10)\n",
    "\n",
    "    def forward(self, x):\n",
    "        # 입력 이미지를 Convolutional layer 1에 통과시키고 ReLU 활성화 함수를 적용하여 feature map 생성\n",
    "        x = torch.relu(self.conv1(x))  # feature map 크기: 14 x 14 (입력 크기 - 커널 크기 + 1)\n",
    "        # Max Pooling을 적용하여 feature map 크기를 반으로 줄임\n",
    "        x = self.pool(x)  # feature map 크기: 7 x 7 (입력 크기 // 2)\n",
    "        \n",
    "        # 입력 feature map을 Convolutional layer 2에 통과시키고 ReLU 활성화 함수를 적용하여 feature map 생성\n",
    "        x = torch.relu(self.conv2(x))  # feature map 크기: 5 x 5 (입력 크기 - 커널 크기 + 1)\n",
    "        # Max Pooling을 적용하여 feature map 크기를 반으로 줄임\n",
    "        x = self.pool(x)  # feature map 크기: 2 x 2 (입력 크기 // 2)\n",
    "\n",
    "        # 2차원 feature map을 1차원으로 변환 (Flatten)\n",
    "        x = torch.flatten(x, 1)  # 64개의 2차원 feature map을 1차원으로 펼쳐서 크기가 64 * 2 * 2인 벡터 생성\n",
    "        \n",
    "        # Fully Connected layer 1에 통과시키고 ReLU 활성화 함수를 적용하여 출력 생성\n",
    "        x = torch.relu(self.fc1(x))\n",
    "\n",
    "        # Fully Connected layer 2에 통과시키고 최종 출력 생성\n",
    "        x = self.fc2(x)\n",
    "\n",
    "        return x\n"
   ]
  },
  {
   "cell_type": "code",
   "execution_count": 19,
   "id": "5a402f17",
   "metadata": {},
   "outputs": [],
   "source": [
    "#  모델 학습 및 평가 함수\n",
    "def train_and_evaluate(model):\n",
    "    criterion = nn.CrossEntropyLoss()\n",
    "    optimizer = optim.SGD(model.parameters(), lr=0.001, momentum=0.9)\n",
    "    \n",
    "    # 학습 loop\n",
    "    for epoch in range(5):\n",
    "        running_loss = 0.0\n",
    "        for i, data in enumerate(trainloader, 0):\n",
    "            inputs, labels = data\n",
    "            optimizer.zero_grad()\n",
    "            outputs = model(inputs)\n",
    "            loss = criterion(outputs, labels)\n",
    "            loss.backward()\n",
    "            optimizer.step()\n",
    "            \n",
    "            running_loss += loss.item()\n",
    "            \n",
    "            '''\n",
    "            매 200번째 미니 배치마다 조건이 참이 되어 손실이 출력되고 running_loss가 재설정됩니다.\n",
    "            이는 미니 배치가 190번째일 때마다 출력 및 초기화가 수행됩니다.\n",
    "            '''\n",
    "            if i % 200 == 199:\n",
    "                print('[%d, %5d] loss: %.3f' % (epoch + 1, i + 1, running_loss / 200))\n",
    "                running_loss = 0.0\n",
    "                \n",
    "    print('Finished training')\n",
    "    \n",
    "    # 모델 평가\n",
    "    correct = 0\n",
    "    total = 0\n",
    "    with torch.no_grad():\n",
    "        for data in testloader:\n",
    "            inputs, labels = data\n",
    "            outputs = model(inputs)\n",
    "            _, predicted = torch.max(outputs.data, 1)\n",
    "            total += labels.size(0)\n",
    "            correct += (predicted == labels).sum().item()\n",
    "            \n",
    "    accuracy = 100 * correct / total\n",
    "    print('Acc >>  %.2f%%' % accuracy)"
   ]
  },
  {
   "cell_type": "markdown",
   "id": "830e6b71",
   "metadata": {},
   "source": [
    "### 실행"
   ]
  },
  {
   "cell_type": "code",
   "execution_count": 20,
   "id": "98e2d21e",
   "metadata": {},
   "outputs": [
    {
     "name": "stdout",
     "output_type": "stream",
     "text": [
      "RNFet-5\n",
      "[1,   200] loss: 2.293\n",
      "[1,   400] loss: 2.243\n",
      "[1,   600] loss: 2.088\n",
      "[2,   200] loss: 1.888\n",
      "[2,   400] loss: 1.839\n",
      "[2,   600] loss: 1.792\n",
      "[3,   200] loss: 1.671\n",
      "[3,   400] loss: 1.621\n",
      "[3,   600] loss: 1.571\n",
      "[4,   200] loss: 1.503\n",
      "[4,   400] loss: 1.488\n",
      "[4,   600] loss: 1.444\n",
      "[5,   200] loss: 1.396\n",
      "[5,   400] loss: 1.400\n",
      "[5,   600] loss: 1.370\n",
      "Finished training\n",
      "Acc >>  52.57%\n",
      "Number of parameters:\n",
      "RFNet:  167562\n"
     ]
    }
   ],
   "source": [
    "print(\"RNFet-5\")\n",
    "rf_model = RFNet()\n",
    "train_and_evaluate(rf_model)\n",
    "\n",
    "# 파라미터 수 비교\n",
    "print(\"Number of parameters:\")\n",
    "print(\"RFNet: \", sum(p.numel() for p in rf_model.parameters()))"
   ]
  },
  {
   "cell_type": "code",
   "execution_count": null,
   "id": "ca7d5eeb",
   "metadata": {},
   "outputs": [],
   "source": []
  }
 ],
 "metadata": {
  "kernelspec": {
   "display_name": "PYT",
   "language": "python",
   "name": "pyt"
  },
  "language_info": {
   "codemirror_mode": {
    "name": "ipython",
    "version": 3
   },
   "file_extension": ".py",
   "mimetype": "text/x-python",
   "name": "python",
   "nbconvert_exporter": "python",
   "pygments_lexer": "ipython3",
   "version": "3.8.0"
  }
 },
 "nbformat": 4,
 "nbformat_minor": 5
}
